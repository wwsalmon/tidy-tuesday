{
 "cells": [
  {
   "cell_type": "code",
   "execution_count": 1,
   "id": "73e18932",
   "metadata": {},
   "outputs": [],
   "source": [
    "import pandas as pd"
   ]
  },
  {
   "cell_type": "code",
   "execution_count": 2,
   "id": "39ee70c1",
   "metadata": {},
   "outputs": [],
   "source": [
    "df = pd.read_csv(\"./news_orgs.csv\")"
   ]
  },
  {
   "cell_type": "code",
   "execution_count": 3,
   "id": "83143ebd",
   "metadata": {},
   "outputs": [
    {
     "data": {
      "text/html": [
       "<div>\n",
       "<style scoped>\n",
       "    .dataframe tbody tr th:only-of-type {\n",
       "        vertical-align: middle;\n",
       "    }\n",
       "\n",
       "    .dataframe tbody tr th {\n",
       "        vertical-align: top;\n",
       "    }\n",
       "\n",
       "    .dataframe thead th {\n",
       "        text-align: right;\n",
       "    }\n",
       "</style>\n",
       "<table border=\"1\" class=\"dataframe\">\n",
       "  <thead>\n",
       "    <tr style=\"text-align: right;\">\n",
       "      <th></th>\n",
       "      <th>publication_name</th>\n",
       "      <th>parent_publication</th>\n",
       "      <th>url</th>\n",
       "      <th>owner</th>\n",
       "      <th>is_owner_founder</th>\n",
       "      <th>city</th>\n",
       "      <th>state</th>\n",
       "      <th>country</th>\n",
       "      <th>primary_language</th>\n",
       "      <th>primary_language_other</th>\n",
       "      <th>...</th>\n",
       "      <th>revenue_stream_other</th>\n",
       "      <th>revenue_stream_additional_info</th>\n",
       "      <th>revenue_stream_largest</th>\n",
       "      <th>revenue_streams_largest_other</th>\n",
       "      <th>paywall_or_gateway</th>\n",
       "      <th>paywall_or_gateway_other</th>\n",
       "      <th>advertising_products</th>\n",
       "      <th>advertising_product_other</th>\n",
       "      <th>real_world_impacts</th>\n",
       "      <th>summary</th>\n",
       "    </tr>\n",
       "  </thead>\n",
       "  <tbody>\n",
       "    <tr>\n",
       "      <th>0</th>\n",
       "      <td>1808Delaware</td>\n",
       "      <td>Total|Local Media</td>\n",
       "      <td>https://1808delaware.com</td>\n",
       "      <td>Thomas Palmer</td>\n",
       "      <td>Yes</td>\n",
       "      <td>Mansfield</td>\n",
       "      <td>OH</td>\n",
       "      <td>United States</td>\n",
       "      <td>English</td>\n",
       "      <td>NaN</td>\n",
       "      <td>...</td>\n",
       "      <td>NaN</td>\n",
       "      <td>NaN</td>\n",
       "      <td>NaN</td>\n",
       "      <td>NaN</td>\n",
       "      <td>NaN</td>\n",
       "      <td>NaN</td>\n",
       "      <td>NaN</td>\n",
       "      <td>NaN</td>\n",
       "      <td>NaN</td>\n",
       "      <td>NaN</td>\n",
       "    </tr>\n",
       "    <tr>\n",
       "      <th>1</th>\n",
       "      <td>1812Blockhouse</td>\n",
       "      <td>Total|Local Media</td>\n",
       "      <td>https://1812blockhouse.com</td>\n",
       "      <td>Thomas Palmer</td>\n",
       "      <td>Yes</td>\n",
       "      <td>Mansfield</td>\n",
       "      <td>OH</td>\n",
       "      <td>United States</td>\n",
       "      <td>English</td>\n",
       "      <td>NaN</td>\n",
       "      <td>...</td>\n",
       "      <td>NaN</td>\n",
       "      <td>NaN</td>\n",
       "      <td>NaN</td>\n",
       "      <td>NaN</td>\n",
       "      <td>NaN</td>\n",
       "      <td>NaN</td>\n",
       "      <td>NaN</td>\n",
       "      <td>NaN</td>\n",
       "      <td>NaN</td>\n",
       "      <td>You are looking at something new and innovativ...</td>\n",
       "    </tr>\n",
       "    <tr>\n",
       "      <th>2</th>\n",
       "      <td>365 Cincinatti</td>\n",
       "      <td>NaN</td>\n",
       "      <td>https://365cincinnati.com</td>\n",
       "      <td>NaN</td>\n",
       "      <td>No</td>\n",
       "      <td>Cincinatti</td>\n",
       "      <td>OH</td>\n",
       "      <td>United States</td>\n",
       "      <td>English</td>\n",
       "      <td>NaN</td>\n",
       "      <td>...</td>\n",
       "      <td>NaN</td>\n",
       "      <td>NaN</td>\n",
       "      <td>NaN</td>\n",
       "      <td>NaN</td>\n",
       "      <td>NaN</td>\n",
       "      <td>NaN</td>\n",
       "      <td>NaN</td>\n",
       "      <td>NaN</td>\n",
       "      <td>NaN</td>\n",
       "      <td>This site and the Facebook page (100,000+ stro...</td>\n",
       "    </tr>\n",
       "    <tr>\n",
       "      <th>3</th>\n",
       "      <td>40 South News</td>\n",
       "      <td>NaN</td>\n",
       "      <td>http://40southnews.com/contact</td>\n",
       "      <td>NaN</td>\n",
       "      <td>No</td>\n",
       "      <td>Brentwood, Maplewood &amp; Richmond Heights</td>\n",
       "      <td>MO</td>\n",
       "      <td>United States</td>\n",
       "      <td>English</td>\n",
       "      <td>NaN</td>\n",
       "      <td>...</td>\n",
       "      <td>NaN</td>\n",
       "      <td>NaN</td>\n",
       "      <td>NaN</td>\n",
       "      <td>NaN</td>\n",
       "      <td>NaN</td>\n",
       "      <td>NaN</td>\n",
       "      <td>NaN</td>\n",
       "      <td>NaN</td>\n",
       "      <td>NaN</td>\n",
       "      <td>40 South News covers Brentwood, Maplewood and ...</td>\n",
       "    </tr>\n",
       "    <tr>\n",
       "      <th>4</th>\n",
       "      <td>6AM City Inc</td>\n",
       "      <td>NaN</td>\n",
       "      <td>https://6amcity.com</td>\n",
       "      <td>Ryan Johnston, Ryan Heafy</td>\n",
       "      <td>Yes</td>\n",
       "      <td>Greenville</td>\n",
       "      <td>SC</td>\n",
       "      <td>United States</td>\n",
       "      <td>English</td>\n",
       "      <td>NaN</td>\n",
       "      <td>...</td>\n",
       "      <td>NaN</td>\n",
       "      <td>NaN</td>\n",
       "      <td>Direct sold advertising</td>\n",
       "      <td>NaN</td>\n",
       "      <td>I don't have a paywall</td>\n",
       "      <td>NaN</td>\n",
       "      <td>Branded content (e.g. marketing content with e...</td>\n",
       "      <td>NaN</td>\n",
       "      <td>6AM City was designed to drive local economic ...</td>\n",
       "      <td>6AM is redefining the future of local media as...</td>\n",
       "    </tr>\n",
       "  </tbody>\n",
       "</table>\n",
       "<p>5 rows × 40 columns</p>\n",
       "</div>"
      ],
      "text/plain": [
       "  publication_name parent_publication                             url  \\\n",
       "0     1808Delaware  Total|Local Media        https://1808delaware.com   \n",
       "1   1812Blockhouse  Total|Local Media      https://1812blockhouse.com   \n",
       "2   365 Cincinatti                NaN       https://365cincinnati.com   \n",
       "3    40 South News                NaN  http://40southnews.com/contact   \n",
       "4     6AM City Inc                NaN             https://6amcity.com   \n",
       "\n",
       "                       owner is_owner_founder  \\\n",
       "0              Thomas Palmer              Yes   \n",
       "1              Thomas Palmer              Yes   \n",
       "2                        NaN               No   \n",
       "3                        NaN               No   \n",
       "4  Ryan Johnston, Ryan Heafy              Yes   \n",
       "\n",
       "                                      city state        country  \\\n",
       "0                                Mansfield    OH  United States   \n",
       "1                                Mansfield    OH  United States   \n",
       "2                               Cincinatti    OH  United States   \n",
       "3  Brentwood, Maplewood & Richmond Heights    MO  United States   \n",
       "4                               Greenville    SC  United States   \n",
       "\n",
       "  primary_language  primary_language_other  ... revenue_stream_other  \\\n",
       "0          English                     NaN  ...                  NaN   \n",
       "1          English                     NaN  ...                  NaN   \n",
       "2          English                     NaN  ...                  NaN   \n",
       "3          English                     NaN  ...                  NaN   \n",
       "4          English                     NaN  ...                  NaN   \n",
       "\n",
       "  revenue_stream_additional_info   revenue_stream_largest  \\\n",
       "0                            NaN                      NaN   \n",
       "1                            NaN                      NaN   \n",
       "2                            NaN                      NaN   \n",
       "3                            NaN                      NaN   \n",
       "4                            NaN  Direct sold advertising   \n",
       "\n",
       "  revenue_streams_largest_other      paywall_or_gateway  \\\n",
       "0                           NaN                     NaN   \n",
       "1                           NaN                     NaN   \n",
       "2                           NaN                     NaN   \n",
       "3                           NaN                     NaN   \n",
       "4                           NaN  I don't have a paywall   \n",
       "\n",
       "  paywall_or_gateway_other                               advertising_products  \\\n",
       "0                      NaN                                                NaN   \n",
       "1                      NaN                                                NaN   \n",
       "2                      NaN                                                NaN   \n",
       "3                      NaN                                                NaN   \n",
       "4                      NaN  Branded content (e.g. marketing content with e...   \n",
       "\n",
       "  advertising_product_other  \\\n",
       "0                       NaN   \n",
       "1                       NaN   \n",
       "2                       NaN   \n",
       "3                       NaN   \n",
       "4                       NaN   \n",
       "\n",
       "                                  real_world_impacts  \\\n",
       "0                                                NaN   \n",
       "1                                                NaN   \n",
       "2                                                NaN   \n",
       "3                                                NaN   \n",
       "4  6AM City was designed to drive local economic ...   \n",
       "\n",
       "                                             summary  \n",
       "0                                                NaN  \n",
       "1  You are looking at something new and innovativ...  \n",
       "2  This site and the Facebook page (100,000+ stro...  \n",
       "3  40 South News covers Brentwood, Maplewood and ...  \n",
       "4  6AM is redefining the future of local media as...  \n",
       "\n",
       "[5 rows x 40 columns]"
      ]
     },
     "execution_count": 3,
     "metadata": {},
     "output_type": "execute_result"
    }
   ],
   "source": [
    "df.head()"
   ]
  },
  {
   "cell_type": "code",
   "execution_count": 4,
   "id": "cd7cc176",
   "metadata": {
    "scrolled": true
   },
   "outputs": [
    {
     "data": {
      "text/plain": [
       "Index(['publication_name', 'parent_publication', 'url', 'owner',\n",
       "       'is_owner_founder', 'city', 'state', 'country', 'primary_language',\n",
       "       'primary_language_other', 'tax_status_founded', 'tax_status_current',\n",
       "       'year_founded', 'total_employees', 'budget_percent_editorial',\n",
       "       'budget_percent_revenue_generation',\n",
       "       'budget_percent_product_technology', 'budget_percent_administration',\n",
       "       'products', 'products_other', 'distribution',\n",
       "       'distribution_method_other', 'geographic_area',\n",
       "       'core_editorial_strategy_characteristics',\n",
       "       'core_editorial_strategy_characteristics_other', 'coverage_topics',\n",
       "       'coverage_topics_other', 'underrepresented_communities',\n",
       "       'underrepresented_communities_not_listed', 'revenue_streams',\n",
       "       'revenue_stream_other', 'revenue_stream_additional_info',\n",
       "       'revenue_stream_largest', 'revenue_streams_largest_other',\n",
       "       'paywall_or_gateway', 'paywall_or_gateway_other',\n",
       "       'advertising_products', 'advertising_product_other',\n",
       "       'real_world_impacts', 'summary'],\n",
       "      dtype='object')"
      ]
     },
     "execution_count": 4,
     "metadata": {},
     "output_type": "execute_result"
    }
   ],
   "source": [
    "df.columns"
   ]
  },
  {
   "cell_type": "code",
   "execution_count": 5,
   "id": "8407e8a3",
   "metadata": {},
   "outputs": [
    {
     "data": {
      "text/plain": [
       "<AxesSubplot:>"
      ]
     },
     "execution_count": 5,
     "metadata": {},
     "output_type": "execute_result"
    },
    {
     "data": {
      "image/png": "[encoded data removed]",
      "text/plain": [
       "<Figure size 432x288 with 1 Axes>"
      ]
     },
     "metadata": {
      "needs_background": "light"
     },
     "output_type": "display_data"
    }
   ],
   "source": [
    "df[\"total_employees\"].hist()"
   ]
  },
  {
   "cell_type": "code",
   "execution_count": 6,
   "id": "ac035692",
   "metadata": {},
   "outputs": [
    {
     "data": {
      "text/plain": [
       "<AxesSubplot:>"
      ]
     },
     "execution_count": 6,
     "metadata": {},
     "output_type": "execute_result"
    },
    {
     "data": {
      "image/png": "[encoded data removed]",
      "text/plain": [
       "<Figure size 432x288 with 1 Axes>"
      ]
     },
     "metadata": {
      "needs_background": "light"
     },
     "output_type": "display_data"
    }
   ],
   "source": [
    "df[\"country\"].hist()"
   ]
  },
  {
   "cell_type": "code",
   "execution_count": 7,
   "id": "4d37dec4",
   "metadata": {},
   "outputs": [
    {
     "data": {
      "text/plain": [
       "City/Town                                                                                                     75\n",
       "County/Counties/Regional districts                                                                            45\n",
       "City/Town, County/Counties/Regional districts                                                                 38\n",
       "Neighborhood(s), City/Town, County/Counties/Regional districts                                                33\n",
       "State/Province                                                                                                22\n",
       "Neighborhood(s), City/Town                                                                                    20\n",
       "Neighborhood(s)                                                                                               11\n",
       "Neighborhood(s), City/Town, County/Counties/Regional districts, State/Province                                 8\n",
       "City/Town, County/Counties/Regional districts, State/Province                                                  8\n",
       "Multi-state/Multi-province                                                                                     6\n",
       "Neighborhood(s), City/Town, County/Counties/Regional districts, State/Province, Multi-state/Multi-province     6\n",
       "State/Province, Multi-state/Multi-province                                                                     5\n",
       "City/Town, County/Counties/Regional districts, State/Province, Multi-state/Multi-province                      4\n",
       "Neighborhood(s), County/Counties/Regional districts                                                            2\n",
       "City/Town, State/Province                                                                                      2\n",
       "City/Town, Multi-state/Multi-province                                                                          1\n",
       "Neighborhood(s), City/Town, State/Province                                                                     1\n",
       "Name: geographic_area, dtype: int64"
      ]
     },
     "execution_count": 7,
     "metadata": {},
     "output_type": "execute_result"
    }
   ],
   "source": [
    "df[\"geographic_area\"].value_counts()"
   ]
  },
  {
   "cell_type": "code",
   "execution_count": 8,
   "id": "748fe1ef",
   "metadata": {},
   "outputs": [],
   "source": [
    "def split_lists(df, col):\n",
    "    # https://towardsdatascience.com/be-a-more-efficient-data-scientist-today-master-pandas-with-this-guide-ea362d27386\n",
    "    df[col] = df[col].map(lambda x: x.split(\", \") if type(x) is str else [])\n",
    "    \n",
    "    # https://pandas.pydata.org/pandas-docs/stable/user_guide/reshaping.html#exploding-a-list-like-column\n",
    "    print(df[col].explode().value_counts())\n",
    "    print(df[col].map(len).hist())"
   ]
  },
  {
   "cell_type": "code",
   "execution_count": 9,
   "id": "3d911c6b",
   "metadata": {},
   "outputs": [
    {
     "name": "stdout",
     "output_type": "stream",
     "text": [
      "City/Town                             196\n",
      "County/Counties/Regional districts    144\n",
      "Neighborhood(s)                        81\n",
      "State/Province                         56\n",
      "Multi-state/Multi-province             22\n",
      "Name: geographic_area, dtype: int64\n",
      "AxesSubplot(0.125,0.125;0.775x0.755)\n"
     ]
    },
    {
     "data": {
      "image/png": "[encoded data removed]",
      "text/plain": [
       "<Figure size 432x288 with 1 Axes>"
      ]
     },
     "metadata": {
      "needs_background": "light"
     },
     "output_type": "display_data"
    }
   ],
   "source": [
    "split_lists(df, \"geographic_area\")"
   ]
  },
  {
   "cell_type": "code",
   "execution_count": 10,
   "id": "d40369f9",
   "metadata": {},
   "outputs": [
    {
     "data": {
      "text/plain": [
       "Direct sold advertising                                                                                                                73\n",
       "Small individual gifts                                                                                                                 11\n",
       "Direct sold advertising, Small individual gifts                                                                                         9\n",
       "Direct sold advertising, Reader membership                                                                                              9\n",
       "Direct sold advertising, Reader subscriptions                                                                                           8\n",
       "                                                                                                                                       ..\n",
       "Classifieds, Direct sold advertising, Major individual gifts, Other forms of corporate sponsorship                                      1\n",
       "Events, Foundation funding                                                                                                              1\n",
       "Direct sold advertising, Small individual gifts, Other forms of corporate sponsorship                                                   1\n",
       "Direct sold advertising, Foundation funding, Major individual gifts, Reader membership, Small individual gifts                          1\n",
       "Major individual gifts, Other forms of corporate sponsorship, Philanthropic funding from major institutions, Small individual gifts     1\n",
       "Name: revenue_streams, Length: 109, dtype: int64"
      ]
     },
     "execution_count": 10,
     "metadata": {},
     "output_type": "execute_result"
    }
   ],
   "source": [
    "df[\"revenue_streams\"].value_counts()"
   ]
  },
  {
   "cell_type": "code",
   "execution_count": 11,
   "id": "acffcc9a",
   "metadata": {},
   "outputs": [
    {
     "name": "stdout",
     "output_type": "stream",
     "text": [
      "Direct sold advertising                          177\n",
      "Small individual gifts                            76\n",
      "Reader membership                                 56\n",
      "Foundation funding                                51\n",
      "Major individual gifts                            37\n",
      "Other forms of corporate sponsorship              30\n",
      "Philanthropic funding from major institutions     29\n",
      "Programmatic advertising                          28\n",
      "Events                                            24\n",
      "Reader subscriptions                              22\n",
      "Grants                                            12\n",
      "Classifieds                                        9\n",
      "but intend to do so                                8\n",
      "Haven’t generated revenue yet                      8\n",
      "Other Marketing Services                           7\n",
      "e-Commerce                                         4\n",
      "Business underwriting                              3\n",
      "Web development                                    1\n",
      "Senior Health coverage underwriter                 1\n",
      "Syndicated Content                                 1\n",
      "Name: revenue_streams, dtype: int64\n",
      "AxesSubplot(0.125,0.125;0.775x0.755)\n"
     ]
    },
    {
     "data": {
      "image/png": "[encoded data removed]",
      "text/plain": [
       "<Figure size 432x288 with 1 Axes>"
      ]
     },
     "metadata": {
      "needs_background": "light"
     },
     "output_type": "display_data"
    }
   ],
   "source": [
    "split_lists(df, \"revenue_streams\")"
   ]
  },
  {
   "cell_type": "code",
   "execution_count": 12,
   "id": "8924a9d0",
   "metadata": {},
   "outputs": [
    {
     "data": {
      "text/plain": [
       "Originally-reported articles                                                                                 31\n",
       "Newsletters, Originally-reported articles                                                                    19\n",
       "Originally-reported articles, Newsletters                                                                    16\n",
       "Newsletters, Originally-reported articles, Video                                                              8\n",
       "Originally-reported articles, Printed media                                                                   7\n",
       "                                                                                                             ..\n",
       "Events, Originally-reported articles, Social media-only content, Video                                        1\n",
       "Originally-reported articles, Video, Newsletters, Events                                                      1\n",
       "Branded Merchandise, Events, News aggregation, Newsletters, Originally-reported articles                      1\n",
       "Originally-reported articles, Video, Printed media, Social media-only content, Digital marketing services     1\n",
       "Branded Merchandise, Events, News aggregation, Newsletters, Originally-reported articles, Radio, Video        1\n",
       "Name: products, Length: 118, dtype: int64"
      ]
     },
     "execution_count": 12,
     "metadata": {},
     "output_type": "execute_result"
    }
   ],
   "source": [
    "df[\"products\"].value_counts()"
   ]
  },
  {
   "cell_type": "code",
   "execution_count": 13,
   "id": "e2e028ab",
   "metadata": {},
   "outputs": [
    {
     "name": "stdout",
     "output_type": "stream",
     "text": [
      "Originally-reported articles    276\n",
      "Newsletters                     199\n",
      "Video                           137\n",
      "Events                           99\n",
      "Social media-only content        84\n",
      "Podcasts                         76\n",
      "Digital marketing services       64\n",
      "Printed media                    54\n",
      "News aggregation                 18\n",
      "Branded Merchandise               6\n",
      "Radio                             4\n",
      "Name: products, dtype: int64\n",
      "AxesSubplot(0.125,0.125;0.775x0.755)\n"
     ]
    },
    {
     "data": {
      "image/png": "[encoded data removed]",
      "text/plain": [
       "<Figure size 432x288 with 1 Axes>"
      ]
     },
     "metadata": {
      "needs_background": "light"
     },
     "output_type": "display_data"
    }
   ],
   "source": [
    "split_lists(df, \"products\")"
   ]
  },
  {
   "cell_type": "code",
   "execution_count": 14,
   "id": "dcb6454a",
   "metadata": {},
   "outputs": [
    {
     "data": {
      "text/plain": [
       "Audio       1\n",
       "webinars    1\n",
       "Name: products_other, dtype: int64"
      ]
     },
     "execution_count": 14,
     "metadata": {},
     "output_type": "execute_result"
    }
   ],
   "source": [
    "df[\"products_other\"].value_counts()"
   ]
  },
  {
   "cell_type": "code",
   "execution_count": 15,
   "id": "d72fe1ae",
   "metadata": {},
   "outputs": [
    {
     "data": {
      "text/plain": [
       "Social media, Website                                                                                                                         41\n",
       "Website, Social media                                                                                                                         40\n",
       "Social media, Third party content platforms, Website                                                                                          26\n",
       "Website, Social media, Third party content platforms                                                                                          22\n",
       "Website                                                                                                                                       16\n",
       "                                                                                                                                              ..\n",
       "Social media, Television, Website                                                                                                              1\n",
       "Email, Podcast, Social media, Syndicated feed or content partnerships, Website                                                                 1\n",
       "Email, Events, Print, Social media, Syndicated feed or content partnerships, Television, Third party content platforms, Website                1\n",
       "Website, Social media, Third party content platforms, Syndicated feed or content partnerships, Podcast, Print, Radio                           1\n",
       "Aggregation, Email, Owned and operated mobile app(s), Podcast, Radio, Social media, Syndicated feed or content partnerships, Text, Website     1\n",
       "Name: distribution, Length: 70, dtype: int64"
      ]
     },
     "execution_count": 15,
     "metadata": {},
     "output_type": "execute_result"
    }
   ],
   "source": [
    "df[\"distribution\"].value_counts()"
   ]
  },
  {
   "cell_type": "code",
   "execution_count": 16,
   "id": "54079d34",
   "metadata": {},
   "outputs": [
    {
     "name": "stdout",
     "output_type": "stream",
     "text": [
      "Website                                    278\n",
      "Social media                               255\n",
      "Third party content platforms               91\n",
      "Email                                       62\n",
      "Syndicated feed or content partnerships     53\n",
      "Owned and operated mobile app(s)            27\n",
      "Print                                       25\n",
      "Podcast                                     15\n",
      "Events                                      11\n",
      "Radio                                       11\n",
      "Aggregation                                  9\n",
      "Text                                         5\n",
      "Television                                   3\n",
      "Name: distribution, dtype: int64\n",
      "AxesSubplot(0.125,0.125;0.775x0.755)\n"
     ]
    },
    {
     "data": {
      "image/png": "[encoded data removed]",
      "text/plain": [
       "<Figure size 432x288 with 1 Axes>"
      ]
     },
     "metadata": {
      "needs_background": "light"
     },
     "output_type": "display_data"
    }
   ],
   "source": [
    "split_lists(df, \"distribution\")"
   ]
  },
  {
   "cell_type": "code",
   "execution_count": 17,
   "id": "61b801a9",
   "metadata": {},
   "outputs": [
    {
     "data": {
      "text/plain": [
       "e-Commerce    1\n",
       "Name: distribution_method_other, dtype: int64"
      ]
     },
     "execution_count": 17,
     "metadata": {},
     "output_type": "execute_result"
    }
   ],
   "source": [
    "df[\"distribution_method_other\"].value_counts()"
   ]
  },
  {
   "cell_type": "code",
   "execution_count": 18,
   "id": "713161e3",
   "metadata": {},
   "outputs": [
    {
     "data": {
      "text/plain": [
       "Hyperlocal community comings and goings                                                                                                                                 43\n",
       "Curation and commentary, Hyperlocal community comings and goings                                                                                                        19\n",
       "Hyperlocal community comings and goings, In-depth feature and explanatory reporting                                                                                     18\n",
       "In-depth feature and explanatory reporting, Investigative news                                                                                                          12\n",
       "Curation and commentary, Hyperlocal community comings and goings, In-depth feature and explanatory reporting                                                            12\n",
       "Single-subject news                                                                                                                                                     11\n",
       "Investigative news, Hyperlocal community comings and goings, In-depth feature and explanatory reporting                                                                 10\n",
       "Breaking News, Hyperlocal community comings and goings                                                                                                                   8\n",
       "Investigative news, Curation and commentary, Hyperlocal community comings and goings, In-depth feature and explanatory reporting                                         8\n",
       "Curation and commentary, Hyperlocal community comings and goings, In-depth feature and explanatory reporting, Investigative news, Single-subject news                    7\n",
       "In-depth feature and explanatory reporting                                                                                                                               7\n",
       "Hyperlocal community comings and goings, In-depth feature and explanatory reporting, Investigative news                                                                  6\n",
       "Curation and commentary, In-depth feature and explanatory reporting, Investigative news                                                                                  6\n",
       "Single-subject news, Investigative news, Curation and commentary, Hyperlocal community comings and goings, In-depth feature and explanatory reporting                    6\n",
       "Curation and commentary, Hyperlocal community comings and goings, In-depth feature and explanatory reporting, Investigative news                                         6\n",
       "Breaking News, Curation and commentary, Hyperlocal community comings and goings                                                                                          6\n",
       "Investigative news                                                                                                                                                       5\n",
       "Investigative news, Curation and commentary, Hyperlocal community comings and goings                                                                                     5\n",
       "In-depth feature and explanatory reporting, Investigative news, Single-subject news                                                                                      4\n",
       "Hyperlocal community comings and goings, In-depth feature and explanatory reporting, Investigative news, Single-subject news                                             4\n",
       "Investigative news, In-depth feature and explanatory reporting                                                                                                           4\n",
       "Investigative news, Hyperlocal community comings and goings                                                                                                              4\n",
       "Single-subject news, Hyperlocal community comings and goings                                                                                                             4\n",
       "Single-subject news, Investigative news, Hyperlocal community comings and goings                                                                                         3\n",
       "Breaking News, Hyperlocal community comings and goings, In-depth feature and explanatory reporting, Investigative news                                                   3\n",
       "Hyperlocal community comings and goings, In-depth feature and explanatory reporting, Single-subject news                                                                 3\n",
       "Curation and commentary                                                                                                                                                  3\n",
       "Breaking News, In-depth feature and explanatory reporting, Investigative news                                                                                            3\n",
       "Breaking News, Hyperlocal community comings and goings, Investigative news                                                                                               3\n",
       "Curation and commentary, Hyperlocal community comings and goings, Single-subject news                                                                                    3\n",
       "Single-subject news, Hyperlocal community comings and goings, In-depth feature and explanatory reporting                                                                 3\n",
       "Breaking News, Curation and commentary, Hyperlocal community comings and goings, In-depth feature and explanatory reporting                                              3\n",
       "Single-subject news, In-depth feature and explanatory reporting                                                                                                          3\n",
       "Single-subject news, Investigative news, Curation and commentary, Hyperlocal community comings and goings                                                                3\n",
       "Investigative news, Curation and commentary, In-depth feature and explanatory reporting                                                                                  3\n",
       "Single-subject news, Investigative news, Hyperlocal community comings and goings, In-depth feature and explanatory reporting                                             2\n",
       "Investigative news, Single-subject news                                                                                                                                  2\n",
       "Curation and commentary, In-depth feature and explanatory reporting, Single-subject news                                                                                 2\n",
       "Hyperlocal community comings and goings, Investigative news                                                                                                              2\n",
       "Hyperlocal community comings and goings, Single-subject news                                                                                                             2\n",
       "Breaking News, Hyperlocal community comings and goings, In-depth feature and explanatory reporting                                                                       2\n",
       "Curation and commentary, In-depth feature and explanatory reporting                                                                                                      1\n",
       "In-depth feature and explanatory reporting, Single-subject news                                                                                                          1\n",
       "Curation and commentary, Investigative news                                                                                                                              1\n",
       "Hyperlocal community comings and goings, In-depth feature and explanatory reporting, Breaking News                                                                       1\n",
       "Single-subject news, Curation and commentary, Hyperlocal community comings and goings, In-depth feature and explanatory reporting                                        1\n",
       "Single-subject news, Investigative news, In-depth feature and explanatory reporting                                                                                      1\n",
       "Breaking News, Curation and commentary                                                                                                                                   1\n",
       "Curation and commentary, Hyperlocal community comings and goings, Investigative news, Single-subject news                                                                1\n",
       "Hyperlocal community comings and goings, Investigative news, Single-subject news                                                                                         1\n",
       "Curation and commentary, Single-subject news                                                                                                                             1\n",
       "Curation and commentary, Hyperlocal community comings and goings, In-depth feature and explanatory reporting, Single-subject news                                        1\n",
       "Breaking News, Hyperlocal community comings and goings, In-depth feature and explanatory reporting, Single-subject news                                                  1\n",
       "Breaking News, Hyperlocal community comings and goings, Investigative news, Single-subject news                                                                          1\n",
       "Single-subject news, Investigative news, Curation and commentary, In-depth feature and explanatory reporting                                                             1\n",
       "Breaking News, Curation and commentary, Hyperlocal community comings and goings, In-depth feature and explanatory reporting, Investigative news, Single-subject news     1\n",
       "Breaking News, Curation and commentary, Hyperlocal community comings and goings, In-depth feature and explanatory reporting, Single-subject news                         1\n",
       "Breaking News, In-depth feature and explanatory reporting                                                                                                                1\n",
       "Name: core_editorial_strategy_characteristics, dtype: int64"
      ]
     },
     "execution_count": 18,
     "metadata": {},
     "output_type": "execute_result"
    }
   ],
   "source": [
    "df[\"core_editorial_strategy_characteristics\"].value_counts()"
   ]
  },
  {
   "cell_type": "code",
   "execution_count": 19,
   "id": "079e7e3a",
   "metadata": {},
   "outputs": [
    {
     "name": "stdout",
     "output_type": "stream",
     "text": [
      "Hyperlocal community comings and goings       207\n",
      "In-depth feature and explanatory reporting    148\n",
      "Investigative news                            118\n",
      "Curation and commentary                       102\n",
      "Single-subject news                            74\n",
      "Breaking News                                  35\n",
      "Name: core_editorial_strategy_characteristics, dtype: int64\n",
      "AxesSubplot(0.125,0.125;0.775x0.755)\n"
     ]
    },
    {
     "data": {
      "image/png": "[encoded data removed]",
      "text/plain": [
       "<Figure size 432x288 with 1 Axes>"
      ]
     },
     "metadata": {
      "needs_background": "light"
     },
     "output_type": "display_data"
    }
   ],
   "source": [
    "split_lists(df, \"core_editorial_strategy_characteristics\")"
   ]
  },
  {
   "cell_type": "code",
   "execution_count": 20,
   "id": "6b11443c",
   "metadata": {
    "scrolled": true
   },
   "outputs": [
    {
     "data": {
      "text/plain": [
       "Low-income communities                                                                                                                                   15\n",
       "Ethnic communities, Immigrant communities, LGBTQI communities, Low-income communities, People of color                                                   12\n",
       "Communities with English as a second language, Ethnic communities, Immigrant communities, LGBTQI communities, Low-income communities, People of color    11\n",
       "Low-income communities, People of color                                                                                                                  11\n",
       "People of color                                                                                                                                           6\n",
       "LGBTQI communities                                                                                                                                        6\n",
       "People of color, Low-income communities                                                                                                                   5\n",
       "Ethnic communities, People of color                                                                                                                       4\n",
       "Communities with English as a second language, Ethnic communities, Immigrant communities, Low-income communities, People of color                         4\n",
       "Communities with English as a second language, Ethnic communities, People of color, Immigrant communities, LGBTQI communities, Low-income communities     3\n",
       "Ethnic communities, Immigrant communities                                                                                                                 2\n",
       "LGBTQI communities, Low-income communities                                                                                                                2\n",
       "Ethnic communities                                                                                                                                        2\n",
       "Communities with English as a second language, Ethnic communities, Immigrant communities                                                                  2\n",
       "Immigrant communities, Low-income communities                                                                                                             2\n",
       "Communities with English as a second language, Ethnic communities, Immigrant communities, People of color                                                 2\n",
       "Communities with English as a second language, Low-income communities, People of color                                                                    2\n",
       "LGBTQI communities, Low-income communities, People of color                                                                                               2\n",
       "Ethnic communities, People of color, Immigrant communities, Low-income communities                                                                        1\n",
       "People of color, Indigenous Populations, Low-income communities                                                                                           1\n",
       "Ethnic communities, Immigrant communities, LGBTQI communities, People of color                                                                            1\n",
       "Communities with English as a second language, People of color                                                                                            1\n",
       "Immigrant communities, LGBTQI communities, Low-income communities, People of color                                                                        1\n",
       "Ethnic communities, Immigrant communities, Low-income communities, Indigenous Populations                                                                 1\n",
       "Indigenous Populations                                                                                                                                    1\n",
       "Communities with English as a second language, Immigrant communities, Low-income communities                                                              1\n",
       "Communities with English as a second language, Immigrant communities                                                                                      1\n",
       "People of color, Immigrant communities, LGBTQI communities, Low-income communities                                                                        1\n",
       "Ethnic communities, Immigrant communities, People of color                                                                                                1\n",
       "Ethnic communities, Low-income communities, People of color                                                                                               1\n",
       "LGBTQI communities, People of color                                                                                                                       1\n",
       "Communities with English as a second language, Ethnic communities, People of color                                                                        1\n",
       "Indigenous Populations, LGBTQI communities, Low-income communities                                                                                        1\n",
       "People of color, Indigenous Populations, LGBTQI communities, Low-income communities                                                                       1\n",
       "Communities with English as a second language, Immigrant communities, LGBTQI communities, Low-income communities, People of color                         1\n",
       "People of color, LGBTQI communities                                                                                                                       1\n",
       "Communities with English as a second language, Ethnic communities, Low-income communities, People of color                                                1\n",
       "Communities with English as a second language, Low-income communities                                                                                     1\n",
       "Ethnic communities, Immigrant communities, Low-income communities, People of color                                                                        1\n",
       "Communities with English as a second language, People of color, Immigrant communities, LGBTQI communities, Low-income communities                         1\n",
       "Communities with English as a second language, Ethnic communities                                                                                         1\n",
       "Ethnic communities, Low-income communities                                                                                                                1\n",
       "Immigrant communities, Low-income communities, People of color                                                                                            1\n",
       "Immigrant communities                                                                                                                                     1\n",
       "Communities with English as a second language, Ethnic communities, People of color, LGBTQI communities, Low-income communities                            1\n",
       "Ethnic communities, LGBTQI communities, Low-income communities, People of color                                                                           1\n",
       "Ethnic communities, LGBTQI communities                                                                                                                    1\n",
       "Immigrant communities, LGBTQI communities, People of color                                                                                                1\n",
       "Name: underrepresented_communities, dtype: int64"
      ]
     },
     "execution_count": 20,
     "metadata": {},
     "output_type": "execute_result"
    }
   ],
   "source": [
    "df[\"underrepresented_communities\"].value_counts()"
   ]
  },
  {
   "cell_type": "code",
   "execution_count": 21,
   "id": "645af7c1",
   "metadata": {},
   "outputs": [
    {
     "name": "stdout",
     "output_type": "stream",
     "text": [
      "Low-income communities                           87\n",
      "People of color                                  82\n",
      "Ethnic communities                               55\n",
      "Immigrant communities                            52\n",
      "LGBTQI communities                               49\n",
      "Communities with English as a second language    34\n",
      "Indigenous Populations                            5\n",
      "Name: underrepresented_communities, dtype: int64\n",
      "AxesSubplot(0.125,0.125;0.775x0.755)\n"
     ]
    },
    {
     "data": {
      "image/png": "[encoded data removed]",
      "text/plain": [
       "<Figure size 432x288 with 1 Axes>"
      ]
     },
     "metadata": {
      "needs_background": "light"
     },
     "output_type": "display_data"
    }
   ],
   "source": [
    "split_lists(df, \"underrepresented_communities\")"
   ]
  },
  {
   "cell_type": "code",
   "execution_count": 22,
   "id": "36dd540a",
   "metadata": {
    "scrolled": true
   },
   "outputs": [
    {
     "data": {
      "text/plain": [
       "Direct sold advertising                                             141\n",
       "Foundation funding                                                   27\n",
       "Small individual gifts                                               20\n",
       "Reader membership                                                    15\n",
       "Philanthropic funding from major institutions                        14\n",
       "Major individual gifts                                               13\n",
       "Reader subscriptions                                                 12\n",
       "Programmatic advertising                                              7\n",
       "Haven’t generated revenue yet, but intend to do so                    7\n",
       "Grants                                                                5\n",
       "Other forms of corporate sponsorship                                  5\n",
       "Events                                                                4\n",
       "Other Marketing Services                                              3\n",
       "Syndicated Content                                                    2\n",
       "Web development                                                       1\n",
       "Events, Grants, Other Marketing Services, Small individual gifts      1\n",
       "e-Commerce                                                            1\n",
       "Name: revenue_stream_largest, dtype: int64"
      ]
     },
     "execution_count": 22,
     "metadata": {},
     "output_type": "execute_result"
    }
   ],
   "source": [
    "df[\"revenue_stream_largest\"].value_counts()"
   ]
  },
  {
   "cell_type": "code",
   "execution_count": 23,
   "id": "49c739c7",
   "metadata": {},
   "outputs": [
    {
     "data": {
      "text/plain": [
       "I don't have a paywall                                           187\n",
       "Static meter (e.g., five free articles per month)                  8\n",
       "Hybrid model (some free content, separate premium tier)            5\n",
       "Hard paywall (all content behind a gate)                           3\n",
       "Other                                                              2\n",
       "Propensity meter (variable number of free articles per month)      1\n",
       "Name: paywall_or_gateway, dtype: int64"
      ]
     },
     "execution_count": 23,
     "metadata": {},
     "output_type": "execute_result"
    }
   ],
   "source": [
    "df[\"paywall_or_gateway\"].value_counts()"
   ]
  },
  {
   "cell_type": "code",
   "execution_count": 24,
   "id": "86bfaf66",
   "metadata": {},
   "outputs": [
    {
     "data": {
      "text/plain": [
       "I don’t sell any advertising products.                                                                                                                   42\n",
       "Display                                                                                                                                                  40\n",
       "Content Sponsorship, Display                                                                                                                             22\n",
       "Display, Content Sponsorship                                                                                                                             18\n",
       "Display, Content Sponsorship, Branded content (e.g. marketing content with editorial review by the advertiser)                                           18\n",
       "                                                                                                                                                         ..\n",
       "Branded content (e.g. marketing content with editorial review by the advertiser), Event sponsorship, Display, Social Media                                1\n",
       "Branded content (e.g. marketing content with editorial review by the advertiser), Event sponsorship, Classifieds, Content Sponsorship, Display, Email     1\n",
       "Branded content (e.g. marketing content with editorial review by the advertiser), Event sponsorship, Content Sponsorship, Display, Social Media           1\n",
       "Classifieds, Display, Podcast Sponsorship, Print ads                                                                                                      1\n",
       "Classifieds                                                                                                                                               1\n",
       "Name: advertising_products, Length: 65, dtype: int64"
      ]
     },
     "execution_count": 24,
     "metadata": {},
     "output_type": "execute_result"
    }
   ],
   "source": [
    "df[\"advertising_products\"].value_counts()"
   ]
  },
  {
   "cell_type": "code",
   "execution_count": 25,
   "id": "89929c0c",
   "metadata": {},
   "outputs": [
    {
     "name": "stdout",
     "output_type": "stream",
     "text": [
      "Display                                                                             212\n",
      "Content Sponsorship                                                                 139\n",
      "Branded content (e.g. marketing content with editorial review by the advertiser)    104\n",
      "Video                                                                                47\n",
      "I don’t sell any advertising products.                                               43\n",
      "Email                                                                                27\n",
      "Event sponsorship                                                                    22\n",
      "Social Media                                                                         21\n",
      "Classifieds                                                                          15\n",
      "Print ads                                                                            12\n",
      "Podcast Sponsorship                                                                  11\n",
      "e-Commerce                                                                            2\n",
      "Television sponsorship                                                                2\n",
      "Name: advertising_products, dtype: int64\n",
      "AxesSubplot(0.125,0.125;0.775x0.755)\n"
     ]
    },
    {
     "data": {
      "image/png": "[encoded data removed]",
      "text/plain": [
       "<Figure size 432x288 with 1 Axes>"
      ]
     },
     "metadata": {
      "needs_background": "light"
     },
     "output_type": "display_data"
    }
   ],
   "source": [
    "split_lists(df, \"advertising_products\")"
   ]
  },
  {
   "cell_type": "code",
   "execution_count": null,
   "id": "40c8464f",
   "metadata": {},
   "outputs": [],
   "source": []
  },
  {
   "cell_type": "code",
   "execution_count": 26,
   "id": "4ebad56e",
   "metadata": {},
   "outputs": [
    {
     "data": {
      "text/plain": [
       "We keep our community informed about what is happening - we let them know what their government is up to and keep an eye on elected officials, we share information about local businesses, events, we publish obituaries and we cover schools, including high school sports. We chronicle history and many readers clip articles and photos about friends and loved ones as well as stories that interest them.                                                                                                                                      2\n",
       "We have created community, education, religious literacy, filled news void                                                                                                                                                                                                                                                                                                                                                                                                                                                                            1\n",
       "We bring significant attention to the plight of vulnerable individuals and groups in our community. Our coverage of homelessness in particular is notable for its depth, context and refusal to perpetuate popular myths about people who lack permanent housing.                                                                                                                                                                                                                                                                                     1\n",
       "We investigated and put a corrupt politician in jail, the biggest corruption case in Santa Clara County history and the only one to result in a felony conviction. We forced the resignation of a county supervisor candidate and councilman over sexual harassment allegations. And we exposed the county health agency’s inability to test or accurately quantify COVID-19 cases, prompting them to provide transparent reporting and overhaul testing program. These are just three of many ways that our coverage has had a real world impact.    1\n",
       "We are a free daily newspaper, website, and newsletter. We do a locally focused podcast at least once a week. We are the publication of record for the City of Santa Monica, and the community looks to us to provide oversight to the city and all public trust organizations.                                                                                                                                                                                                                                                                       1\n",
       "                                                                                                                                                                                                                                                                                                                                                                                                                                                                                                                                                     ..\n",
       "We are the only locally owned and operated media platform in our city, and we are committed to providing the stuff that matters to our community through a positive voice. This makes us stand out in our community, and we are looked to, to provide factual, up-to-date information for our readers.                                                                                                                                                                                                                                                1\n",
       "Kewaunee County is otherwise a news desert; we provide a source of local news and information that can't be found anywhere else.                                                                                                                                                                                                                                                                                                                                                                                                                      1\n",
       "Several of our stories affect change in the local community.                                                                                                                                                                                                                                                                                                                                                                                                                                                                                          1\n",
       "We're proud to have promoted and achieved two 12-acre parks in North Knox County with a third on the drawing board. We recognize emergency service providers and volunteers to inspire others to pitch in. We aggregate obituaries daily from mortuaries in a 9-county region.                                                                                                                                                                                                                                                                        1\n",
       "¿QPM? has raised the profile and need for authentic bilingual reporting for a population seeking its rightful place in the national discussion.                                                                                                                                                                                                                                                                                                                                                                                                       1\n",
       "Name: real_world_impacts, Length: 218, dtype: int64"
      ]
     },
     "execution_count": 26,
     "metadata": {},
     "output_type": "execute_result"
    }
   ],
   "source": [
    "df[\"real_world_impacts\"].value_counts()"
   ]
  },
  {
   "cell_type": "code",
   "execution_count": 27,
   "id": "563f806e",
   "metadata": {},
   "outputs": [
    {
     "data": {
      "text/plain": [
       "QuickBite News runs four of the western GTA’s most influential media websites, offering news, food, lifestyle and entertainment coverage for millions to the Golden Horseshoe and GTA regions. The sites reach 50 million people and boast an average monthly reach of 4.2 million viewers per month.\\nThe independently-run, online news source was founded in 2012 and specializes in everything from breaking news to food and restaurant, arts and entertainment and lifestyle coverage.    3\n",
       "TAP into Newton is an all-online, objective, newspaper serving the residents, organizations, and business owners of Newton, New Jersey.                                                                                                                                                                                                                                                                                                                                                         2\n",
       "Valley News is a weekly community newspaper for and about Grain Valley. We focus solely on Grain Valley news and events and help build relationships between our advertisers and our readers.                                                                                                                                                                                                                                                                                                   2\n",
       "Voice of San Diego is a nonprofit news organization. We were founded in 2005 by Union-Tribune columnist Neil Morgan and entrepreneur Buzz Woolley because they felt the region needed more reporting, analysis and journalistic competition.\\nAt VOSD, we reveal why things are the way they are and expose facts that people in power might not want out there. We also take the time to explain complex local public policy issues so you can be engaged and make good decisions.             2\n",
       "Welcome to InDepthNH.org, the nonprofit watchdog news website published by the New Hampshire Center for Public Interest Journalism.                                                                                                                                                                                                                                                                                                                                                             2\n",
       "                                                                                                                                                                                                                                                                                                                                                                                                                                                                                               ..\n",
       "High Country News is a nonprofit 501(c)3 independent media organization that covers the important issues and stories that define the Western United States.                                                                                                                                                                                                                                                                                                                                     1\n",
       "We cover Memphis neighborhoods with nuance and center the experience of residents. We expose Memphians to stories of their neighbors across the city. We seek to rebalance the news by exploring challenges while focusing on the people and solutions moving Memphis forward.                                                                                                                                                                                                                  1\n",
       "Welcome to Highland Park Planet, a weekly community online news source. The Planet does traditional reporting on municipal news stories, as well as providing full coverage of local arts and entertainment and lifestyle happenings. We have a core of committed professionals supported by a community of volunteers, sponsors, and advertisers, making the Planet a true community enterprise.                                                                                               1\n",
       "The H-F Chronicle is the only newspaper dedicated to covering the Homewood-Flossmoor community. With new stories published daily online at HFChronicle.com, the print edition comes out monthly, reaching more than 12,000 readers.                                                                                                                                                                                                                                                             1\n",
       "¿Qué Pasa, Midwest? is a bilingual podcast that creates a sense of community for Midwestern Latinx who are missing an essential piece of their cultural identity.                                                                                                                                                                                                                                                                                                                               1\n",
       "Name: summary, Length: 677, dtype: int64"
      ]
     },
     "execution_count": 27,
     "metadata": {},
     "output_type": "execute_result"
    }
   ],
   "source": [
    "df[\"summary\"].value_counts()"
   ]
  },
  {
   "cell_type": "code",
   "execution_count": 28,
   "id": "fd625a27",
   "metadata": {},
   "outputs": [
    {
     "data": {
      "text/plain": [
       "LLC                                        116\n",
       "Sole Proprietor/no specific tax status      71\n",
       "Nonprofit 501c(3) or Canadian nonprofit     34\n",
       "Under umbrella of a 501c(3)                 25\n",
       "For Profit                                  21\n",
       "S Corp                                      20\n",
       "Public-benefit corporation                   2\n",
       "Partnership                                  2\n",
       "Name: tax_status_founded, dtype: int64"
      ]
     },
     "execution_count": 28,
     "metadata": {},
     "output_type": "execute_result"
    }
   ],
   "source": [
    "df[\"tax_status_founded\"].value_counts()"
   ]
  },
  {
   "cell_type": "code",
   "execution_count": 29,
   "id": "d00c0285",
   "metadata": {},
   "outputs": [
    {
     "data": {
      "text/plain": [
       "For Profit                                 348\n",
       "LLC                                        128\n",
       "Not for Profit                             116\n",
       "Nonprofit 501c(3) or Canadian nonprofit     52\n",
       "Sole Proprietor/no specific tax status      39\n",
       "S Corp                                      29\n",
       "Under umbrella of a 501c(3)                 18\n",
       "Public-benefit corporation                   4\n",
       "Partnership                                  4\n",
       "Name: tax_status_current, dtype: int64"
      ]
     },
     "execution_count": 29,
     "metadata": {},
     "output_type": "execute_result"
    }
   ],
   "source": [
    "df[\"tax_status_current\"].value_counts()"
   ]
  },
  {
   "cell_type": "code",
   "execution_count": 30,
   "id": "1f90e277",
   "metadata": {},
   "outputs": [],
   "source": [
    "df_tax_status_change = df[pd.notna(df[\"tax_status_founded\"])]"
   ]
  },
  {
   "cell_type": "code",
   "execution_count": 31,
   "id": "07fff9e0",
   "metadata": {},
   "outputs": [
    {
     "data": {
      "text/plain": [
       "True    291\n",
       "Name: tax_status_current, dtype: int64"
      ]
     },
     "execution_count": 31,
     "metadata": {},
     "output_type": "execute_result"
    }
   ],
   "source": [
    "pd.notna(df_tax_status_change[\"tax_status_current\"]).value_counts()"
   ]
  },
  {
   "cell_type": "code",
   "execution_count": 32,
   "id": "45e49a5e",
   "metadata": {},
   "outputs": [],
   "source": [
    "df_tax_status_change = df_tax_status_change[[\"tax_status_founded\", \"tax_status_current\"]]\n",
    "df_tax_status_change.to_json(\"tax_status.json\", orient=\"records\")"
   ]
  },
  {
   "cell_type": "markdown",
   "id": "37cf97b2",
   "metadata": {},
   "source": [
    "# picking it back up May 3, 2022"
   ]
  },
  {
   "cell_type": "code",
   "execution_count": 36,
   "id": "75a1dd35",
   "metadata": {},
   "outputs": [
    {
     "data": {
      "text/html": [
       "<div>\n",
       "<style scoped>\n",
       "    .dataframe tbody tr th:only-of-type {\n",
       "        vertical-align: middle;\n",
       "    }\n",
       "\n",
       "    .dataframe tbody tr th {\n",
       "        vertical-align: top;\n",
       "    }\n",
       "\n",
       "    .dataframe thead th {\n",
       "        text-align: right;\n",
       "    }\n",
       "</style>\n",
       "<table border=\"1\" class=\"dataframe\">\n",
       "  <thead>\n",
       "    <tr style=\"text-align: right;\">\n",
       "      <th></th>\n",
       "      <th>publication_name</th>\n",
       "      <th>parent_publication</th>\n",
       "      <th>url</th>\n",
       "      <th>owner</th>\n",
       "      <th>is_owner_founder</th>\n",
       "      <th>city</th>\n",
       "      <th>state</th>\n",
       "      <th>country</th>\n",
       "      <th>primary_language</th>\n",
       "      <th>primary_language_other</th>\n",
       "      <th>...</th>\n",
       "      <th>revenue_stream_other</th>\n",
       "      <th>revenue_stream_additional_info</th>\n",
       "      <th>revenue_stream_largest</th>\n",
       "      <th>revenue_streams_largest_other</th>\n",
       "      <th>paywall_or_gateway</th>\n",
       "      <th>paywall_or_gateway_other</th>\n",
       "      <th>advertising_products</th>\n",
       "      <th>advertising_product_other</th>\n",
       "      <th>real_world_impacts</th>\n",
       "      <th>summary</th>\n",
       "    </tr>\n",
       "  </thead>\n",
       "  <tbody>\n",
       "    <tr>\n",
       "      <th>0</th>\n",
       "      <td>1808Delaware</td>\n",
       "      <td>Total|Local Media</td>\n",
       "      <td>https://1808delaware.com</td>\n",
       "      <td>Thomas Palmer</td>\n",
       "      <td>Yes</td>\n",
       "      <td>Mansfield</td>\n",
       "      <td>OH</td>\n",
       "      <td>United States</td>\n",
       "      <td>English</td>\n",
       "      <td>NaN</td>\n",
       "      <td>...</td>\n",
       "      <td>NaN</td>\n",
       "      <td>NaN</td>\n",
       "      <td>NaN</td>\n",
       "      <td>NaN</td>\n",
       "      <td>NaN</td>\n",
       "      <td>NaN</td>\n",
       "      <td>[]</td>\n",
       "      <td>NaN</td>\n",
       "      <td>NaN</td>\n",
       "      <td>NaN</td>\n",
       "    </tr>\n",
       "    <tr>\n",
       "      <th>1</th>\n",
       "      <td>1812Blockhouse</td>\n",
       "      <td>Total|Local Media</td>\n",
       "      <td>https://1812blockhouse.com</td>\n",
       "      <td>Thomas Palmer</td>\n",
       "      <td>Yes</td>\n",
       "      <td>Mansfield</td>\n",
       "      <td>OH</td>\n",
       "      <td>United States</td>\n",
       "      <td>English</td>\n",
       "      <td>NaN</td>\n",
       "      <td>...</td>\n",
       "      <td>NaN</td>\n",
       "      <td>NaN</td>\n",
       "      <td>NaN</td>\n",
       "      <td>NaN</td>\n",
       "      <td>NaN</td>\n",
       "      <td>NaN</td>\n",
       "      <td>[]</td>\n",
       "      <td>NaN</td>\n",
       "      <td>NaN</td>\n",
       "      <td>You are looking at something new and innovativ...</td>\n",
       "    </tr>\n",
       "    <tr>\n",
       "      <th>2</th>\n",
       "      <td>365 Cincinatti</td>\n",
       "      <td>NaN</td>\n",
       "      <td>https://365cincinnati.com</td>\n",
       "      <td>NaN</td>\n",
       "      <td>No</td>\n",
       "      <td>Cincinatti</td>\n",
       "      <td>OH</td>\n",
       "      <td>United States</td>\n",
       "      <td>English</td>\n",
       "      <td>NaN</td>\n",
       "      <td>...</td>\n",
       "      <td>NaN</td>\n",
       "      <td>NaN</td>\n",
       "      <td>NaN</td>\n",
       "      <td>NaN</td>\n",
       "      <td>NaN</td>\n",
       "      <td>NaN</td>\n",
       "      <td>[]</td>\n",
       "      <td>NaN</td>\n",
       "      <td>NaN</td>\n",
       "      <td>This site and the Facebook page (100,000+ stro...</td>\n",
       "    </tr>\n",
       "    <tr>\n",
       "      <th>3</th>\n",
       "      <td>40 South News</td>\n",
       "      <td>NaN</td>\n",
       "      <td>http://40southnews.com/contact</td>\n",
       "      <td>NaN</td>\n",
       "      <td>No</td>\n",
       "      <td>Brentwood, Maplewood &amp; Richmond Heights</td>\n",
       "      <td>MO</td>\n",
       "      <td>United States</td>\n",
       "      <td>English</td>\n",
       "      <td>NaN</td>\n",
       "      <td>...</td>\n",
       "      <td>NaN</td>\n",
       "      <td>NaN</td>\n",
       "      <td>NaN</td>\n",
       "      <td>NaN</td>\n",
       "      <td>NaN</td>\n",
       "      <td>NaN</td>\n",
       "      <td>[]</td>\n",
       "      <td>NaN</td>\n",
       "      <td>NaN</td>\n",
       "      <td>40 South News covers Brentwood, Maplewood and ...</td>\n",
       "    </tr>\n",
       "    <tr>\n",
       "      <th>4</th>\n",
       "      <td>6AM City Inc</td>\n",
       "      <td>NaN</td>\n",
       "      <td>https://6amcity.com</td>\n",
       "      <td>Ryan Johnston, Ryan Heafy</td>\n",
       "      <td>Yes</td>\n",
       "      <td>Greenville</td>\n",
       "      <td>SC</td>\n",
       "      <td>United States</td>\n",
       "      <td>English</td>\n",
       "      <td>NaN</td>\n",
       "      <td>...</td>\n",
       "      <td>NaN</td>\n",
       "      <td>NaN</td>\n",
       "      <td>Direct sold advertising</td>\n",
       "      <td>NaN</td>\n",
       "      <td>I don't have a paywall</td>\n",
       "      <td>NaN</td>\n",
       "      <td>[Branded content (e.g. marketing content with ...</td>\n",
       "      <td>NaN</td>\n",
       "      <td>6AM City was designed to drive local economic ...</td>\n",
       "      <td>6AM is redefining the future of local media as...</td>\n",
       "    </tr>\n",
       "  </tbody>\n",
       "</table>\n",
       "<p>5 rows × 40 columns</p>\n",
       "</div>"
      ],
      "text/plain": [
       "  publication_name parent_publication                             url  \\\n",
       "0     1808Delaware  Total|Local Media        https://1808delaware.com   \n",
       "1   1812Blockhouse  Total|Local Media      https://1812blockhouse.com   \n",
       "2   365 Cincinatti                NaN       https://365cincinnati.com   \n",
       "3    40 South News                NaN  http://40southnews.com/contact   \n",
       "4     6AM City Inc                NaN             https://6amcity.com   \n",
       "\n",
       "                       owner is_owner_founder  \\\n",
       "0              Thomas Palmer              Yes   \n",
       "1              Thomas Palmer              Yes   \n",
       "2                        NaN               No   \n",
       "3                        NaN               No   \n",
       "4  Ryan Johnston, Ryan Heafy              Yes   \n",
       "\n",
       "                                      city state        country  \\\n",
       "0                                Mansfield    OH  United States   \n",
       "1                                Mansfield    OH  United States   \n",
       "2                               Cincinatti    OH  United States   \n",
       "3  Brentwood, Maplewood & Richmond Heights    MO  United States   \n",
       "4                               Greenville    SC  United States   \n",
       "\n",
       "  primary_language  primary_language_other  ... revenue_stream_other  \\\n",
       "0          English                     NaN  ...                  NaN   \n",
       "1          English                     NaN  ...                  NaN   \n",
       "2          English                     NaN  ...                  NaN   \n",
       "3          English                     NaN  ...                  NaN   \n",
       "4          English                     NaN  ...                  NaN   \n",
       "\n",
       "  revenue_stream_additional_info   revenue_stream_largest  \\\n",
       "0                            NaN                      NaN   \n",
       "1                            NaN                      NaN   \n",
       "2                            NaN                      NaN   \n",
       "3                            NaN                      NaN   \n",
       "4                            NaN  Direct sold advertising   \n",
       "\n",
       "  revenue_streams_largest_other      paywall_or_gateway  \\\n",
       "0                           NaN                     NaN   \n",
       "1                           NaN                     NaN   \n",
       "2                           NaN                     NaN   \n",
       "3                           NaN                     NaN   \n",
       "4                           NaN  I don't have a paywall   \n",
       "\n",
       "  paywall_or_gateway_other                               advertising_products  \\\n",
       "0                      NaN                                                 []   \n",
       "1                      NaN                                                 []   \n",
       "2                      NaN                                                 []   \n",
       "3                      NaN                                                 []   \n",
       "4                      NaN  [Branded content (e.g. marketing content with ...   \n",
       "\n",
       "  advertising_product_other  \\\n",
       "0                       NaN   \n",
       "1                       NaN   \n",
       "2                       NaN   \n",
       "3                       NaN   \n",
       "4                       NaN   \n",
       "\n",
       "                                  real_world_impacts  \\\n",
       "0                                                NaN   \n",
       "1                                                NaN   \n",
       "2                                                NaN   \n",
       "3                                                NaN   \n",
       "4  6AM City was designed to drive local economic ...   \n",
       "\n",
       "                                             summary  \n",
       "0                                                NaN  \n",
       "1  You are looking at something new and innovativ...  \n",
       "2  This site and the Facebook page (100,000+ stro...  \n",
       "3  40 South News covers Brentwood, Maplewood and ...  \n",
       "4  6AM is redefining the future of local media as...  \n",
       "\n",
       "[5 rows x 40 columns]"
      ]
     },
     "execution_count": 36,
     "metadata": {},
     "output_type": "execute_result"
    }
   ],
   "source": [
    "df.head()"
   ]
  },
  {
   "cell_type": "code",
   "execution_count": 39,
   "id": "3c48e826",
   "metadata": {},
   "outputs": [],
   "source": [
    "final_df = df[df['country'] == 'United States']\n",
    "final_df = final_df[['publication_name', 'url', 'state', 'tax_status_current', 'year_founded', 'total_employees', 'products', 'revenue_stream_largest', 'distribution', 'underrepresented_communities']]\n",
    "final_df.to_json(\"all.json\", orient=\"records\")"
   ]
  }
 ],
 "metadata": {
  "kernelspec": {
   "display_name": "Python 3 (ipykernel)",
   "language": "python",
   "name": "python3"
  },
  "language_info": {
   "codemirror_mode": {
    "name": "ipython",
    "version": 3
   },
   "file_extension": ".py",
   "mimetype": "text/x-python",
   "name": "python",
   "nbconvert_exporter": "python",
   "pygments_lexer": "ipython3",
   "version": "3.8.9"
  }
 },
 "nbformat": 4,
 "nbformat_minor": 5
}
